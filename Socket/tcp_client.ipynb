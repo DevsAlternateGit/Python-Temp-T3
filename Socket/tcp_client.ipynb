{
 "cells": [
  {
   "cell_type": "code",
   "execution_count": null,
   "id": "076e7ce6",
   "metadata": {},
   "outputs": [],
   "source": [
    "from socket import *\n",
    "\n",
    "host = 'localhost'\n",
    "port = 5000\n",
    "\n",
    "server_address = (host, port)\n",
    "\n",
    "sock = socket()\n",
    "sock.connect(server_address)\n",
    "\n",
    "while True:\n",
    "    msg = input(\"Enter message to send: \")\n",
    "    sock.send(msg.encode())\n",
    "    data = sock.recv(1024)\n",
    "    if not data:\n",
    "        break\n",
    "    print(\"Received: \", data.decode())\n",
    "\n",
    "sock.close()"
   ]
  }
 ],
 "metadata": {
  "language_info": {
   "name": "python"
  }
 },
 "nbformat": 4,
 "nbformat_minor": 5
}
