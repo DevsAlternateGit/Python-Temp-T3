{
 "cells": [
  {
   "cell_type": "code",
   "execution_count": null,
   "id": "dbdce18b",
   "metadata": {},
   "outputs": [],
   "source": [
    "from socket import *\n",
    "\n",
    "def createServer():\n",
    "    server_socket = socket(AF_INET, SOCK_STREAM)\n",
    "    server_socket.bind(('localhost', 5000))\n",
    "    server_socket.listen()\n",
    "    while(1):\n",
    "        print(\"Waiting for a connection...\")\n",
    "        client_socket, addr = server_socket.accept()\n",
    "        rd = client_socket.recv(1024).decode()\n",
    "        print(f\"Received data: {rd}\")\n",
    "\n",
    "        data = \"HTTP/1.1 200 OK\\r\\n\"\n",
    "        data += \"Content-Type: text/html; charset=utf-8\\r\\n\"\n",
    "        data += \"\\r\\n\"\n",
    "        data += \"<html><body><h1>Hello, World!</h1></body></html>\"\n",
    "        client_socket.send(data.encode())\n",
    "\n",
    "    server_socket.close()\n",
    "\n",
    "print(\"Access the server at http://localhost:5000\")\n",
    "createServer()"
   ]
  }
 ],
 "metadata": {
  "language_info": {
   "name": "python"
  }
 },
 "nbformat": 4,
 "nbformat_minor": 5
}
