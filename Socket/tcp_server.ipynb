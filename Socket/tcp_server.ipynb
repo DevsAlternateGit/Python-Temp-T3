{
 "cells": [
  {
   "cell_type": "code",
   "execution_count": null,
   "id": "16a7ac13",
   "metadata": {},
   "outputs": [],
   "source": [
    "from socket import *\n",
    "\n",
    "host = \"localhost\"\n",
    "port = 5000\n",
    "\n",
    "server_address = (host, port)\n",
    "\n",
    "sock = socket()\n",
    "sock.bind(server_address)\n",
    "sock.listen()\n",
    "\n",
    "conn, addr = sock.accept()\n",
    "print(f\"Connection from {addr} has been established.\")\n",
    "\n",
    "while True:\n",
    "    data = conn.recv(1024).decode()\n",
    "    if not data:\n",
    "        break\n",
    "    print(f\"Received: {data}\")\n",
    "    msg = input(\"Enter message to send: \")\n",
    "    conn.send(msg.encode()) \n",
    "\n",
    "conn.close()\n",
    "    "
   ]
  }
 ],
 "metadata": {
  "language_info": {
   "name": "python"
  }
 },
 "nbformat": 4,
 "nbformat_minor": 5
}
