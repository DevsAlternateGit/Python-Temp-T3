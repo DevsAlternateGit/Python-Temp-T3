{
 "cells": [
  {
   "cell_type": "code",
   "execution_count": null,
   "id": "1f881c6f",
   "metadata": {},
   "outputs": [],
   "source": [
    "from socket import * \n",
    "import time\n",
    "\n",
    "host = \"localhost\"\n",
    "port = 5000\n",
    "sock = socket(type=SOCK_DGRAM)\n",
    "\n",
    "server_address = (host, port)\n",
    "sock.bind(server_address)\n",
    "\n",
    "while True:\n",
    "    print(\"\\nwaiting to receive message\")\n",
    "    data, address = sock.recvfrom(4096)\n",
    "    print(\"received \", data.decode(), \" from \", address)\n",
    "    msg = input(\"Enter message to send: \")\n",
    "    sock.sendto(msg.encode(), address)\n",
    "\n",
    "sock.close()"
   ]
  }
 ],
 "metadata": {
  "language_info": {
   "name": "python"
  }
 },
 "nbformat": 4,
 "nbformat_minor": 5
}
