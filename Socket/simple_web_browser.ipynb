{
 "cells": [
  {
   "cell_type": "code",
   "execution_count": 1,
   "id": "6f472b48",
   "metadata": {},
   "outputs": [
    {
     "name": "stdout",
     "output_type": "stream",
     "text": [
      "HTTP/1.1 301 Moved Permanently\n",
      "Server: nginx/1.18.0 (Ubuntu)\n",
      "Date: Mon, 23 Jun 2025 01:48:28 GMT\n",
      "Content-Type: text/html\n",
      "Content-Length: 178\n",
      "Connection: close\n",
      "Location: https://ljku.edu.in\n",
      "\n",
      "<html>\n",
      "<head><title>301 Moved Permanently</title></head>\n",
      "<body>\n",
      "<center><h1>301 Moved Permanently</h1></center>\n",
      "<hr><center>nginx/1.18.0 (Ubuntu)</center>\n",
      "</body>\n",
      "</html>\n",
      "\n"
     ]
    }
   ],
   "source": [
    "from socket import *\n",
    "\n",
    "sock = socket()\n",
    "sock.connect(('www.ljku.edu.in', 80))\n",
    "sock.send(b'GET http://www.ljku.edu.in/ HTTP/1.0\\r\\n\\r\\n')\n",
    "\n",
    "while True:\n",
    "    data = sock.recv(1024)\n",
    "    if not data:\n",
    "        break\n",
    "    print(data.decode())\n",
    "\n",
    "sock.close()\n"
   ]
  },
  {
   "cell_type": "code",
   "execution_count": null,
   "id": "0302d357",
   "metadata": {},
   "outputs": [],
   "source": []
  }
 ],
 "metadata": {
  "kernelspec": {
   "display_name": "Python 3",
   "language": "python",
   "name": "python3"
  },
  "language_info": {
   "codemirror_mode": {
    "name": "ipython",
    "version": 3
   },
   "file_extension": ".py",
   "mimetype": "text/x-python",
   "name": "python",
   "nbconvert_exporter": "python",
   "pygments_lexer": "ipython3",
   "version": "3.12.7"
  }
 },
 "nbformat": 4,
 "nbformat_minor": 5
}
