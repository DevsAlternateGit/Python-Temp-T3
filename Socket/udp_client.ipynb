{
 "cells": [
  {
   "cell_type": "code",
   "execution_count": null,
   "id": "12726983",
   "metadata": {},
   "outputs": [],
   "source": [
    "from socket import *\n",
    "\n",
    "HOST = \"localhost\"\n",
    "PORT = 21567\n",
    "server_address = (HOST, PORT)\n",
    "\n",
    "sock = socket(type=SOCK_DGRAM)\n",
    "\n",
    "while True:\n",
    "    msg = input(\"Enter message to send: \")\n",
    "    sock.sendto(msg.encode(), server_address)\n",
    "    data, address = sock.recvfrom(1024)\n",
    "    if not data:\n",
    "        break\n",
    "    print(\"Received: \", data.decode())\n",
    "\n",
    "sock.close()    "
   ]
  }
 ],
 "metadata": {
  "language_info": {
   "name": "python"
  }
 },
 "nbformat": 4,
 "nbformat_minor": 5
}
